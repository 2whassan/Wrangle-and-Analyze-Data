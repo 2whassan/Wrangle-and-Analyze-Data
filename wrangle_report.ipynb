{
 "cells": [
  {
   "cell_type": "markdown",
   "metadata": {},
   "source": [
    "# Wrangle and Analyze Data Project ( The tweet archive of Twitter user  'WeRateDogs' )"
   ]
  },
  {
   "cell_type": "markdown",
   "metadata": {},
   "source": [
    "## Wrangling Steps"
   ]
  },
  {
   "cell_type": "markdown",
   "metadata": {},
   "source": [
    "by Hassan Moharram"
   ]
  },
  {
   "cell_type": "markdown",
   "metadata": {},
   "source": [
    "Data: February 13, 2019"
   ]
  },
  {
   "cell_type": "markdown",
   "metadata": {},
   "source": [
    "### Gather Data\n",
    "\n",
    "We have three files to gather:   \n",
    "1- twitter-archive-enhanced.csv   \n",
    "2- tweet_json.txt    \n",
    "3- image-predictions.tsv    "
   ]
  },
  {
   "cell_type": "markdown",
   "metadata": {},
   "source": [
    "- The first file (twitter-archive-enhanced.csv):   \n",
    "This file is manually downloaded."
   ]
  },
  {
   "cell_type": "markdown",
   "metadata": {},
   "source": [
    "- The second file (tweet_json.txt):    \n",
    "Each tweet's retweet count and favorite (\"like\") count at minimum, and any additional data you find interesting. Using the tweet IDs in the WeRateDogs Twitter archive, query the Twitter API for each tweet's JSON data using Python's Tweepy library and store each tweet's entire set of JSON data in a file called tweet_json.txt file. Each tweet's JSON data should be written to its own line. Then read this tweet_json.txt file line by line into a pandas DataFrame with tweet_id, favorites \tretweets, user_followers, user_favourites, and date_time.\n"
   ]
  },
  {
   "cell_type": "markdown",
   "metadata": {},
   "source": [
    "- The third file (image-predictions.tsv):   \n",
    " This fileis hosted on Udacity's servers and should be downloaded programmatically using the Requests library and the following URL: https://d17h27t6h515a5.cloudfront.net/topher/2017/August/599fd2ad_image-predictions/image-predictions.tsv"
   ]
  },
  {
   "cell_type": "markdown",
   "metadata": {},
   "source": [
    "### Assess Data"
   ]
  },
  {
   "cell_type": "markdown",
   "metadata": {},
   "source": [
    "### Quality\n",
    "\n",
    "#### `twitter_archive_enhanced` table:\n",
    "- There are some not null values in 'retweeted_status_id', 'retweeted_status_user_id', and 'retweeted_status_timestamp' columns.\n",
    "- There is no need for columns like:'in_reply_to_status_id', 'in_reply_to_user_id', 'retweeted_status_id', 'retweeted_status_user_id', and 'retweeted_status_timestamp'.\n",
    "- 'name' column should be changed to a more suitable name.\n",
    "- Erroneous data types(in_reply_to_status_id ,in_reply_to_user_id, timestamp, retweeted_status_id, retweeted_status_user_id, retweeted_status_timestamp, and 'source')\n",
    "- Missing values in (in_reply_to_status_id, in_reply_to_user_id, retweeted_status_id, retweeted_status_user_id, retweeted_status_timestamp, expanded_urls)\n",
    "- some values in (text) starting with 'RT @dog_rates: ' not the main text content.\n",
    "- Null values in 'doggo', 'floofer', 'pupper', and 'puppo' are represented in None instead of NaN.\n",
    "- Null values in 'name' are represented in None instead of NaN.\n",
    "- Lowercase and uppercase given 'name'.\n",
    "- Invalid names values in 'name' like; None, a, an, the,his,and my.\n",
    "\n",
    "#### `tweet_json` table:\n",
    "- Total number or tweet_id are 2340 instead of 2356.\n",
    "\n",
    "#### `image_predictions` table:\n",
    "- p1,p1_conf, p1_dog, p2, p2_conf, p2_dog, p3, p3_conf, and p3_dog should be represented into 2 columns; 'dog_breed' and 'confidence_level'.\n",
    "- Total number or tweet_id are 2075 instead of 2356.\n",
    "- There are 66 duplicated 'jpg_url'.\n",
    "- Lowercase and uppercase given 'p1', 'p2', and 'p3'.\n",
    "- Erroneous data types('p1', 'p2',and 'p3')"
   ]
  },
  {
   "cell_type": "markdown",
   "metadata": {},
   "source": [
    "- timestamp' and 'date_time' in `twitter_archive_enhanced` and `tweet_json` tables repectively, have the same values, but are with diffenrent names."
   ]
  },
  {
   "cell_type": "markdown",
   "metadata": {},
   "source": [
    "### Tidiness\n",
    "\n",
    "- `twitter_archive_enhanced` table: 'doggo', 'floofer', 'pupper', and 'puppo' columns should be represented into one column 'dogtionary'.\n",
    "- All the three tables should be represented in one whole table."
   ]
  },
  {
   "cell_type": "markdown",
   "metadata": {},
   "source": [
    "### Clean Data"
   ]
  },
  {
   "cell_type": "markdown",
   "metadata": {},
   "source": [
    "#### Quality"
   ]
  },
  {
   "cell_type": "markdown",
   "metadata": {},
   "source": [
    "##### There are some not null values in 'retweeted_status_id', 'retweeted_status_user_id', and 'retweeted_status_timestamp' columns."
   ]
  },
  {
   "cell_type": "markdown",
   "metadata": {},
   "source": [
    "##### Define\n",
    "Drop rows with those not null values."
   ]
  },
  {
   "cell_type": "markdown",
   "metadata": {},
   "source": [
    "#### Quality"
   ]
  },
  {
   "cell_type": "markdown",
   "metadata": {},
   "source": [
    "##### `twitter_archive_enhanced` table: there is no need for columns like: 'in_reply_to_status_id', 'in_reply_to_user_id', 'retweeted_status_id', 'etweeted_status_user_id',  and 'retweeted_status_timestamp'"
   ]
  },
  {
   "cell_type": "markdown",
   "metadata": {},
   "source": [
    "##### Define\n",
    "Drop 'in_reply_to_status_id', 'in_reply_to_user_id', 'retweeted_status_id', 'retweeted_status_user_id', and 'retweeted_status_timestamp'"
   ]
  },
  {
   "cell_type": "markdown",
   "metadata": {},
   "source": [
    "#### Tidiness"
   ]
  },
  {
   "cell_type": "markdown",
   "metadata": {},
   "source": [
    "###### `twitter_archive_enhanced` table: 'doggo', 'floofer', 'pupper', and 'puppo' columns should be represented into one column 'dogtionary'."
   ]
  },
  {
   "cell_type": "markdown",
   "metadata": {},
   "source": [
    "#### Define\n",
    "Replace 'None' values in 'doggo', 'floofer', 'pupper', 'puppo' columns with ''. Then thum up those 4 columns into one column called 'dogtionary'. Then drop them. Then replace '' values in 'dogtionary'"
   ]
  },
  {
   "cell_type": "markdown",
   "metadata": {},
   "source": [
    "#### Quality"
   ]
  },
  {
   "cell_type": "markdown",
   "metadata": {},
   "source": [
    "##### `image_predictions` table: p1 ,p1_conf, p1_dog, p2, p2_conf, p2_dog, p3, p3_conf, and p3_dog should be represented into 2 columns; 'dog_breed' and 'confidence_level'."
   ]
  },
  {
   "cell_type": "markdown",
   "metadata": {},
   "source": [
    "#### Define\n",
    "Construct the following for loop through each row in `image_predictions_clean` table and creating 2 lists; dog_breed and confidence_level, Then adding them to `image_predictions_clean` table as 2 columns. Then dropping 'p1' ,'p1_conf', 'p1_dog', 'p2', 'p2_conf', 'p2_dog', 'p3', 'p3_conf', 'p3_dog' columns."
   ]
  },
  {
   "cell_type": "markdown",
   "metadata": {},
   "source": [
    "###### All the three tables should be represented in one whole table."
   ]
  },
  {
   "cell_type": "markdown",
   "metadata": {},
   "source": [
    "#### Define\n",
    "Merge the `twitter_archive_enhanced_clean` table to the `tweet_json_clean` table, joining ontweet_id. Then Merge the resulting `twitter_archive_enhanced_clean` table to the `image_predictions_clean` table, joining ontweet_id."
   ]
  },
  {
   "cell_type": "markdown",
   "metadata": {},
   "source": [
    "#### Quality"
   ]
  },
  {
   "cell_type": "markdown",
   "metadata": {},
   "source": [
    "##### 'timestamp' and 'date_time' in `twitter_archive_enhanced` and `tweet_json` tables repectively, have the same values, but are with diffenrent names."
   ]
  },
  {
   "cell_type": "markdown",
   "metadata": {},
   "source": [
    "#### Define\n",
    "Drop 'date_time' column."
   ]
  },
  {
   "cell_type": "markdown",
   "metadata": {},
   "source": [
    "#### Quality"
   ]
  },
  {
   "cell_type": "markdown",
   "metadata": {},
   "source": [
    "##### 'name' column should be changed to a more suitable name."
   ]
  },
  {
   "cell_type": "markdown",
   "metadata": {},
   "source": [
    "#### Define\n",
    "Change the name of 'name' column to dog_name"
   ]
  },
  {
   "cell_type": "markdown",
   "metadata": {},
   "source": [
    "#### Quality"
   ]
  },
  {
   "cell_type": "markdown",
   "metadata": {},
   "source": [
    "##### Erroneous data types('source', 'dogtionary', 'dog_breed', and 'timestamp')"
   ]
  },
  {
   "cell_type": "markdown",
   "metadata": {},
   "source": [
    "#### Define\n",
    "Convert 'source', 'dogtionary', and 'dog_breed' to categorical data type and 'timestamp' to datetime data type."
   ]
  },
  {
   "cell_type": "markdown",
   "metadata": {},
   "source": [
    "##### Erroneous data types(in_reply_to_status_id ,in_reply_to_user_id, timestamp, retweeted_status_id, retweeted_status_user_id, retweeted_status_timestamp, and source)"
   ]
  },
  {
   "cell_type": "markdown",
   "metadata": {},
   "source": [
    "#### Define\n",
    "I already dropped in_reply_to_status_id ,in_reply_to_user_id, retweeted_status_id, retweeted_status_user_id, and retweeted_status_timestamp columns. timestamp and source columns are already converted to the right data types in the previous step."
   ]
  },
  {
   "cell_type": "markdown",
   "metadata": {},
   "source": [
    "##### Too much missing values in (in_reply_to_status_id, in_reply_to_user_id, retweeted_status_id, retweeted_status_user_id, and retweeted_status_timestamp)"
   ]
  },
  {
   "cell_type": "markdown",
   "metadata": {},
   "source": [
    "#### Define\n",
    "I already dropped these columns previously, so there is no need for them now."
   ]
  },
  {
   "cell_type": "markdown",
   "metadata": {},
   "source": [
    "##### Some values in (text) starting with 'RT @dog_rates: ' not the main text content."
   ]
  },
  {
   "cell_type": "markdown",
   "metadata": {},
   "source": [
    "#### Define\n",
    "Check each taxt starts with 'RT @dog_rates: ' and replace that with ''. Then append all modified texts to a list called text_modified. Then drop the text column. Then add the text_modified list as a column to twitter_archive_enhanced_clean."
   ]
  },
  {
   "cell_type": "markdown",
   "metadata": {},
   "source": [
    "##### Null values in 'doggo', 'floofer', 'pupper', and 'puppo' are represented in None instead of NaN."
   ]
  },
  {
   "cell_type": "markdown",
   "metadata": {},
   "source": [
    "#### Define\n",
    "I already solved this problem"
   ]
  },
  {
   "cell_type": "markdown",
   "metadata": {},
   "source": [
    "##### Null values in 'name' are represented in None instead of NaN."
   ]
  },
  {
   "cell_type": "markdown",
   "metadata": {},
   "source": [
    "#### Define\n",
    "Replace all 'None' values in dog_name column with 'NaN'"
   ]
  },
  {
   "cell_type": "markdown",
   "metadata": {},
   "source": [
    "##### Lowercase and uppercase given 'name'."
   ]
  },
  {
   "cell_type": "markdown",
   "metadata": {},
   "source": [
    "#### Define\n",
    "Make all names in dog_name column lowercase."
   ]
  },
  {
   "cell_type": "markdown",
   "metadata": {},
   "source": [
    "##### Invalid names values in 'name' like; None, a, an, the,his,and my."
   ]
  },
  {
   "cell_type": "markdown",
   "metadata": {},
   "source": [
    "#### Define\n",
    "Remove all the invalid names and replace them with the right ones."
   ]
  },
  {
   "cell_type": "markdown",
   "metadata": {},
   "source": [
    "##### Total number or tweet_id are 2340 instead of 2356 in `tweet_json` table"
   ]
  },
  {
   "cell_type": "markdown",
   "metadata": {},
   "source": [
    "#### Define\n",
    "This was already solved earlier by merging `tweet_json` table with `twitter_archive_enhanced_clean` table."
   ]
  },
  {
   "cell_type": "markdown",
   "metadata": {},
   "source": [
    "##### Total number or tweet_id are 2075 instead of 2356 in `image_predictions` table"
   ]
  },
  {
   "cell_type": "markdown",
   "metadata": {},
   "source": [
    "#### Define\n",
    "This was already solved earlier by merging `image_predictions` table with `twitter_archive_enhanced_clean` table."
   ]
  },
  {
   "cell_type": "markdown",
   "metadata": {},
   "source": [
    "##### Lowercase and uppercase given 'p1', 'p2', and 'p3'."
   ]
  },
  {
   "cell_type": "markdown",
   "metadata": {},
   "source": [
    "#### Define\n",
    "This was already solved earlier."
   ]
  },
  {
   "cell_type": "markdown",
   "metadata": {},
   "source": [
    "##### Erroneous data types('p1', 'p2',and 'p3')"
   ]
  },
  {
   "cell_type": "markdown",
   "metadata": {},
   "source": [
    "#### Define\n",
    "This was already solved earlier."
   ]
  }
 ],
 "metadata": {
  "kernelspec": {
   "display_name": "Python 3",
   "language": "python",
   "name": "python3"
  },
  "language_info": {
   "codemirror_mode": {
    "name": "ipython",
    "version": 3
   },
   "file_extension": ".py",
   "mimetype": "text/x-python",
   "name": "python",
   "nbconvert_exporter": "python",
   "pygments_lexer": "ipython3",
   "version": "3.6.6"
  }
 },
 "nbformat": 4,
 "nbformat_minor": 2
}
